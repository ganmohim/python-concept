{
 "cells": [
  {
   "cell_type": "markdown",
   "metadata": {},
   "source": [
    "## Named Tuple\n",
    "\n",
    "In Python, the named tuple provides developer a class like experience without the overhead of creating a class.\n",
    "\n",
    "This module is not meant to be very in-depth explanation of Python's named tuple. But, it will provide you enough details to hit the ground walking.\n",
    "\n",
    "### Syntax\n",
    "`collections.namedtuple(typename, field_names, *, rename=False, defaults=None, module=None)`\n",
    "\n",
    "The `field_names` can be expressed as a string with field names separated by space or commas. \n",
    "\n",
    "\n",
    "\n",
    "\n",
    "Please see the sytax below for a simple implemenation of named tuple."
   ]
  },
  {
   "cell_type": "code",
   "execution_count": 2,
   "metadata": {},
   "outputs": [
    {
     "name": "stdout",
     "output_type": "stream",
     "text": [
      "********************************************************************\n",
      "Named tuple accessed like an 'object':\n",
      "********************************************************************\n",
      "1002\n",
      "Nusaybah\n",
      "3.99\n"
     ]
    }
   ],
   "source": [
    "from collections import namedtuple\n",
    "\n",
    "SchoolStudent = namedtuple('Student', 'id name gpa')\n",
    "\n",
    "student_object = SchoolStudent(1002, 'Nusaybah', 3.99)\n",
    "\n",
    "\n",
    "print(\"*\" * 68)\n",
    "print(\"Named tuple accessed like an \\'object\\':\")\n",
    "print(\"*\" * 68)\n",
    "print(student_object.id)\n",
    "print(student_object.name)\n",
    "print(student_object.gpa)\n",
    "      "
   ]
  },
  {
   "cell_type": "markdown",
   "metadata": {},
   "source": [
    "### Accessing Named Tuple as Index\n",
    "\n",
    "Named tuple can be used like a tuple. Please see code below. The code is similar to above, but we access it like a tuple."
   ]
  },
  {
   "cell_type": "code",
   "execution_count": null,
   "metadata": {},
   "outputs": [],
   "source": [
    "from collections import namedtuple\n",
    "\n",
    "SchoolStudent = namedtuple('Student', 'id name gpa')\n",
    "\n",
    "student_object = SchoolStudent(1002, 'Nusaybah', 3.99)\n",
    "\n",
    "print(\"*\" * 68)\n",
    "print(\"Named tuple can be accessed like \\'tuple\\'\")\n",
    "print(\"*\" * 68)\n",
    "print(student_object[0])\n",
    "print(student_object[1])\n",
    "print(student_object[2])\n"
   ]
  },
  {
   "cell_type": "markdown",
   "metadata": {},
   "source": [
    "### Unpacking Named Tuple\n",
    "\n",
    "Named tuple can be unpacked on the fly."
   ]
  },
  {
   "cell_type": "code",
   "execution_count": null,
   "metadata": {},
   "outputs": [],
   "source": [
    "from collections import namedtuple\n",
    "\n",
    "SchoolStudent = namedtuple('Student', 'id name gpa')\n",
    "\n",
    "student_object = SchoolStudent(1002, 'Nusaybah', 3.99)\n",
    "\n",
    "sutdent_id, student_name, student_gpa = student_object \n",
    "\n",
    "print(\"*\" * 68)\n",
    "print(\"Named tuple is unpacked\")\n",
    "print(\"*\" * 68)\n",
    "print(sutdent_id)\n",
    "print(student_name)\n",
    "print(student_gpa)"
   ]
  },
  {
   "cell_type": "markdown",
   "metadata": {},
   "source": [
    "### Readable `__repr__()`\n",
    "\n",
    "In the code example below, the `print` statement prints named tuple in key-value pair. No explicit `__repr__()` method required unlike class. \n"
   ]
  },
  {
   "cell_type": "code",
   "execution_count": null,
   "metadata": {},
   "outputs": [],
   "source": [
    "from collections import namedtuple\n",
    "\n",
    "SchoolStudent = namedtuple('Student', 'id name gpa')\n",
    "student_object = SchoolStudent(1002, 'Nusaybah', 3.99)\n",
    "print(student_object)"
   ]
  },
  {
   "cell_type": "markdown",
   "metadata": {},
   "source": [
    "### End Notes\n",
    "\n",
    "\n",
    "Finally to drive the idea home, we will develop a class based approach. This will show relative convenience of named tuple over a class based approach."
   ]
  },
  {
   "cell_type": "code",
   "execution_count": null,
   "metadata": {},
   "outputs": [],
   "source": [
    "class Student:\n",
    "    def __init__(self, id, name, gpa):\n",
    "        self.id = id\n",
    "        self.name = name\n",
    "        self.gpa = gpa\n",
    "        \n",
    "    def __repr__(self):\n",
    "        return \"{}(id={}, name={}, gpa={})\".format(\n",
    "            self.__class__.__name__,\n",
    "            self.id, self.name, self.gpa)\n",
    "    \n",
    "if __name__ == '__main__':\n",
    "    student_object = Student(1002, 'Nusaybah', 3.99)\n",
    "    print(student_object)\n",
    "        "
   ]
  },
  {
   "cell_type": "markdown",
   "metadata": {},
   "source": [
    "Now, let's compare the class based implementation with named tuple. Notice the differece in lines of codes: 50% less code using named tuple approach. \n",
    "\n",
    "There are cases when you are deep within a production code. And, you simply do not want to introduce another inner class to keep the codebase clean. In those situations, named tuple could be a good alternative."
   ]
  }
 ],
 "metadata": {
  "kernelspec": {
   "display_name": "Python 3",
   "language": "python",
   "name": "python3"
  },
  "language_info": {
   "codemirror_mode": {
    "name": "ipython",
    "version": 3
   },
   "file_extension": ".py",
   "mimetype": "text/x-python",
   "name": "python",
   "nbconvert_exporter": "python",
   "pygments_lexer": "ipython3",
   "version": "3.7.4"
  }
 },
 "nbformat": 4,
 "nbformat_minor": 2
}
