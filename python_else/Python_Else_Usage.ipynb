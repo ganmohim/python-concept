{
 "cells": [
  {
   "cell_type": "markdown",
   "metadata": {},
   "source": [
    "#  Sepcial case of 'else' keyword in Python \n",
    "\n",
    "> Copyright (c) 2019, GAN MOHIM, Canada. All rights reserved. \n",
    "\n",
    "> The content is free to use as is for educational purpose with copyright as is.\n",
    "> Any form of usage that generates revenue from this content is prohibited by copyright law.\n",
    "> The author provides no guarantee or warranty. Use content at your own risk.\n",
    "\n",
    "\n"
   ]
  },
  {
   "cell_type": "markdown",
   "metadata": {},
   "source": [
    "## Conventional Usage of _else_ keyword in Python\n",
    "\n",
    "For most programmers with non-Python background, `else` block is generally used with `if` block. In other words, the construct is written as: If something is true then do this, else do that. This holds true even for experienced programmers who are new to Python. So, in Python, an if else block is written like following:"
   ]
  },
  {
   "cell_type": "code",
   "execution_count": 11,
   "metadata": {},
   "outputs": [
    {
     "name": "stdout",
     "output_type": "stream",
     "text": [
      "Hello Nusaybah\n"
     ]
    }
   ],
   "source": [
    "\n",
    "def hello_name(name_var):\n",
    "    if name_var:\n",
    "        print(\"Hello {}\".format(name_var))\n",
    "    else:\n",
    "        print(\"No name provided!\")\n",
    "\n",
    "name_var = 'Nusaybah'\n",
    "\n",
    "hello_name(name_var)\n"
   ]
  },
  {
   "cell_type": "markdown",
   "metadata": {},
   "source": [
    "\n",
    "However, `else` has more Pythonic usage in combination with `for` loop, `while` loop and `try..catch` construct. For example, in languages like Java or C++ you would not see (not at least as of this writing) syntax like following. But, in Python, it is a valid syntanx.  \n",
    "\n",
    "```\n",
    "for i in list_item:\n",
    "    pass\n",
    "else:\n",
    "    pass\n",
    "```\n",
    " "
   ]
  },
  {
   "cell_type": "markdown",
   "metadata": {},
   "source": [
    "### Case#1: The case of _else_ with _for_ loop\n",
    "\n",
    "There are times during code review, we see retry mechanism written using simple for loops. For an example, in following scenario, we try to ping a web url or ip address three times. If all three attempts failed, we raise an exception indicating that remote address could not be pinged. \n",
    "\n",
    "The following implemenation uses Pythonic approach of using `else` block in combination with `for` loop. In simple terms:\n",
    "\n",
    "1) If `for` loop is not interrupted by break or return or exception, then and only then `else` code block will be executed\n",
    "\n",
    "In case below, the _for_ loop is exausted after three ping attempts. Then, `else` block is execute to tell user that ping did not succeed despite retries.\n",
    "\n",
    "\n"
   ]
  },
  {
   "cell_type": "code",
   "execution_count": null,
   "metadata": {},
   "outputs": [],
   "source": [
    "import logging\n",
    "import platform\n",
    "\n",
    "from subprocess import Popen, PIPE, TimeoutExpired\n",
    "\n",
    "\n",
    "def ping(address):\n",
    "    \"\"\"Pings an IP or URL.\n",
    "    \n",
    "    Returns: ret_code, stdout, stderr\n",
    "        \n",
    "    \"\"\"\n",
    "    \n",
    "    os_type = platform.system()\n",
    "    \n",
    "    cmd = ['ping', address, '-c 1'] if os_type in ['Linux', 'Darwin'] else ['ping', address, '-n', '1']\n",
    "\n",
    "    proc = Popen(cmd, stdout=PIPE, stderr=PIPE)\n",
    "    \n",
    "    try:\n",
    "        stdout, stderr = proc.communicate(timeout=5)\n",
    "        ret_code = proc.returncode \n",
    "        \n",
    "        # Prints stderr in case of failure\n",
    "        if ret_code != 0:\n",
    "            print(\"Error found: {}\".format(stderr))\n",
    "    except TimeoutExpired as e:\n",
    "        proc.kill()\n",
    "        raise e\n",
    "        \n",
    "    \n",
    "    return ret_code, stdout, stderr\n",
    "        \n",
    "\n",
    "if __name__ == \"__main__\":\n",
    "\n",
    "    # Note, we intentionally made a typo in url: 'coms' instead of 'com'\n",
    "    address = \"google.coms\"  \n",
    "    \n",
    "    # Since we have typo in url, the following for loop will run three times\n",
    "    for i in range(1, 4):\n",
    "        print(\"Trying # {}\".format(i))\n",
    "        exit_code, stdout, stderr = ping(address)\n",
    "        if exit_code == 0:\n",
    "            print(\"ping succeeded!\")\n",
    "            print(\"\\n*** stdout ***\\n{}\".format(stdout.decode(\"utf-8\")))\n",
    "            break  # else block will be skipped due to this break\n",
    "        print(\"\\n\")\n",
    "    else:\n",
    "        print(\"--else block started--\")\n",
    "        print(\"All {} attempts failed\".format(i))\n",
    "        print(\"\\n*** stderr ***\\n{}\".format(stderr.decode(\"utf-8\")))\n",
    "        raise Exception(\"Oops! Ping to \\'{}\\' failed!\".format(address))\n",
    "        \n",
    "\n",
    "        \n",
    "    \n"
   ]
  },
  {
   "cell_type": "markdown",
   "metadata": {},
   "source": [
    "\n",
    "Now, try to run same program by changing following line:\n",
    "\n",
    "From `address = \"google.coms\"` To `address = \"google.com\"`\n",
    "\n",
    "Here, we corrected the url. If you have valid internet connection, then you will notice that `else` block is not executed at all. It is because the `break` statement has interrupted the loop as soon as `google.com` is pinged successfully. \n"
   ]
  },
  {
   "cell_type": "markdown",
   "metadata": {},
   "source": [
    "### Case#2: The case of _else_ with _while_ loop\n",
    "\n",
    "Similar to above case, the _while_ loops works the same way with _else_. Hence, we can re-write the same progam using _while_ loop in following way. \n",
    "\n",
    "_Note: The code below uses same ping() function as above. To avoid duplicate code, we put it\n",
    "inside `ping__tool.py`. You will find it in the same directory as this notebook file."
   ]
  },
  {
   "cell_type": "code",
   "execution_count": 12,
   "metadata": {},
   "outputs": [
    {
     "name": "stdout",
     "output_type": "stream",
     "text": [
      "Trying # 1\n",
      "Error found: b'ping: unknown host google.coms\\n'\n",
      "\n",
      "\n",
      "Trying # 2\n",
      "Error found: b'ping: unknown host google.coms\\n'\n",
      "\n",
      "\n",
      "Trying # 3\n",
      "Error found: b'ping: unknown host google.coms\\n'\n",
      "\n",
      "\n",
      "--else block started--\n",
      "All 3 attempts failed\n",
      "\n",
      "*** stderr ***\n",
      "ping: unknown host google.coms\n",
      "\n"
     ]
    },
    {
     "ename": "Exception",
     "evalue": "Oops! Ping to 'google.coms' failed!",
     "output_type": "error",
     "traceback": [
      "\u001b[0;31m---------------------------------------------------------------------------\u001b[0m",
      "\u001b[0;31mException\u001b[0m                                 Traceback (most recent call last)",
      "\u001b[0;32m<ipython-input-12-dcc0153cf561>\u001b[0m in \u001b[0;36m<module>\u001b[0;34m\u001b[0m\n\u001b[1;32m     28\u001b[0m     \u001b[0mprint\u001b[0m\u001b[0;34m(\u001b[0m\u001b[0;34m\"All {} attempts failed\"\u001b[0m\u001b[0;34m.\u001b[0m\u001b[0mformat\u001b[0m\u001b[0;34m(\u001b[0m\u001b[0mcount\u001b[0m\u001b[0;34m)\u001b[0m\u001b[0;34m)\u001b[0m\u001b[0;34m\u001b[0m\u001b[0;34m\u001b[0m\u001b[0m\n\u001b[1;32m     29\u001b[0m     \u001b[0mprint\u001b[0m\u001b[0;34m(\u001b[0m\u001b[0;34m\"\\n*** stderr ***\\n{}\"\u001b[0m\u001b[0;34m.\u001b[0m\u001b[0mformat\u001b[0m\u001b[0;34m(\u001b[0m\u001b[0mstderr\u001b[0m\u001b[0;34m.\u001b[0m\u001b[0mdecode\u001b[0m\u001b[0;34m(\u001b[0m\u001b[0;34m\"utf-8\"\u001b[0m\u001b[0;34m)\u001b[0m\u001b[0;34m)\u001b[0m\u001b[0;34m)\u001b[0m\u001b[0;34m\u001b[0m\u001b[0;34m\u001b[0m\u001b[0m\n\u001b[0;32m---> 30\u001b[0;31m     \u001b[0;32mraise\u001b[0m \u001b[0mException\u001b[0m\u001b[0;34m(\u001b[0m\u001b[0;34m\"Oops! Ping to \\'{}\\' failed!\"\u001b[0m\u001b[0;34m.\u001b[0m\u001b[0mformat\u001b[0m\u001b[0;34m(\u001b[0m\u001b[0maddress\u001b[0m\u001b[0;34m)\u001b[0m\u001b[0;34m)\u001b[0m\u001b[0;34m\u001b[0m\u001b[0;34m\u001b[0m\u001b[0m\n\u001b[0m\u001b[1;32m     31\u001b[0m \u001b[0;34m\u001b[0m\u001b[0m\n",
      "\u001b[0;31mException\u001b[0m: Oops! Ping to 'google.coms' failed!"
     ]
    }
   ],
   "source": [
    "# This code is needed to run the progam from notebook\n",
    "import os\n",
    "import sys\n",
    "module_path = os.path.abspath(os.path.join('..'))\n",
    "if module_path not in sys.path:\n",
    "    sys.path.append(module_path)\n",
    "\n",
    "\n",
    "# Import ping() function\n",
    "from python_else.ping_tool import ping\n",
    "\n",
    "# Note, we intentionally made a typo in url: 'coms' instead of 'com'\n",
    "address = \"google.coms\"  \n",
    "    \n",
    "count = 0\n",
    "max_try = 3\n",
    "while count < max_try:\n",
    "    print(\"Trying # {}\".format(count+1))\n",
    "    exit_code, stdout, stderr = ping(address)\n",
    "    if exit_code == 0:\n",
    "            print(\"ping succeeded!\")\n",
    "            print(\"\\n*** stdout ***\\n{}\".format(stdout.decode(\"utf-8\")))\n",
    "            break  # else block will be skipped due to this break\n",
    "    print(\"\\n\")\n",
    "    count += 1\n",
    "else:\n",
    "    print(\"--else block started--\")\n",
    "    print(\"All {} attempts failed\".format(count))\n",
    "    print(\"\\n*** stderr ***\\n{}\".format(stderr.decode(\"utf-8\")))\n",
    "    raise Exception(\"Oops! Ping to \\'{}\\' failed!\".format(address))\n",
    "\n"
   ]
  },
  {
   "cell_type": "markdown",
   "metadata": {},
   "source": [
    "### Case#3: The case of _else_ with try..catch..finally construct\n",
    "\n",
    "In general, the _try..catch..finally_ construct that we see most often may look like following:\n"
   ]
  },
  {
   "cell_type": "code",
   "execution_count": null,
   "metadata": {},
   "outputs": [],
   "source": [
    "import sys\n",
    "\n",
    "def is_odd_number(val):\n",
    "    return int(val) % 2 != 0\n",
    "\n",
    "error_caught = True\n",
    "\n",
    "while True:\n",
    "    try:\n",
    "        user_entry = input(\"Enter a value (type Q to exit): \")\n",
    "        if user_entry == 'Q':\n",
    "            break\n",
    "            \n",
    "        if int(user_entry) < 0:\n",
    "            raise ValueError(\"The numbers can't be negative\")       \n",
    "        \n",
    "        # Please note, how we use error_caught flag to indicate\n",
    "        # that the user has provided valid value\n",
    "        error_caught = False  \n",
    "        \n",
    "    except ValueError as err:\n",
    "        print(err)\n",
    "        \n",
    "    finally:\n",
    "        # Addtional logic that runs is_odd_number() only when\n",
    "        # user provided valid entry\n",
    "        if not error_caught:\n",
    "            result = is_odd_number(user_entry)\n",
    "            print(\"{} is odd number? --> {}\".format(user_entry, result))\n",
    "        \n",
    "        print(\"Try again..\") if user_entry != 'Q' else print(\"Exiting\")\n",
    "\n",
    "    "
   ]
  },
  {
   "cell_type": "code",
   "execution_count": null,
   "metadata": {},
   "outputs": [],
   "source": []
  },
  {
   "cell_type": "markdown",
   "metadata": {},
   "source": [
    "In above case, the _finally_ block runs with or without exception. So, if we want to run a function that only runs when there is no exception, addtional code needs to be written. Hence, the code above had to introduce following addtional check and _error_caught_ flag had to be carefully tracked inside _try_ block:\n",
    "       \n",
    "        if not error_caught:\n",
    "            result = is_odd_number(user_entry)\n",
    "            print(\"{} is odd number? --> {}\".format(user_entry, result))\n",
    "        \n",
    "\n",
    "However, in Python, we can use _else_ constuct which will only run if no exception is thrown. In other words, the _else_ block will only run when the user provided a valid entry. If you compare both piece of code, you will notice that the second version with _else_ block was relatively clean."
   ]
  },
  {
   "cell_type": "code",
   "execution_count": 8,
   "metadata": {},
   "outputs": [
    {
     "name": "stdout",
     "output_type": "stream",
     "text": [
      "Enter a value (type Q to exit): 1\n",
      "1 is odd number? --> True\n",
      "Try again..\n",
      "Enter a value (type Q to exit): 2\n",
      "2 is odd number? --> False\n",
      "Try again..\n",
      "Enter a value (type Q to exit): 3\n",
      "3 is odd number? --> True\n",
      "Try again..\n",
      "Enter a value (type Q to exit): 6\n",
      "6 is odd number? --> False\n",
      "Try again..\n",
      "Enter a value (type Q to exit): 10\n",
      "10 is odd number? --> False\n",
      "Try again..\n",
      "Enter a value (type Q to exit): Q\n",
      "Exiting\n"
     ]
    }
   ],
   "source": [
    "import sys\n",
    "\n",
    "def is_odd_number(val):\n",
    "    return int(val) % 2 != 0\n",
    "\n",
    "while True:\n",
    "    try:\n",
    "        user_entry = input(\"Enter a value (type Q to exit): \")\n",
    "        if user_entry == 'Q':\n",
    "            break\n",
    "            \n",
    "        if int(user_entry) < 0:\n",
    "            raise ValueError(\"The numbers can't be negative\")       \n",
    "\n",
    "    except ValueError as err:\n",
    "        print(err)\n",
    "\n",
    "    else:\n",
    "        # This else block only runs when user provides a valid number\n",
    "        # Unlike example right above, we did not have to use any\n",
    "        # addtional flag.\n",
    "        result = is_odd_number(user_entry)\n",
    "        print(\"{} is odd number? --> {}\".format(user_entry, result))\n",
    "        \n",
    "    \n",
    "    finally:\n",
    "        print(\"Try again..\") if user_entry != 'Q' else print(\"Exiting\")"
   ]
  }
 ],
 "metadata": {
  "kernelspec": {
   "display_name": "Python 3",
   "language": "python",
   "name": "python3"
  },
  "language_info": {
   "codemirror_mode": {
    "name": "ipython",
    "version": 3
   },
   "file_extension": ".py",
   "mimetype": "text/x-python",
   "name": "python",
   "nbconvert_exporter": "python",
   "pygments_lexer": "ipython3",
   "version": "3.7.4"
  }
 },
 "nbformat": 4,
 "nbformat_minor": 2
}
