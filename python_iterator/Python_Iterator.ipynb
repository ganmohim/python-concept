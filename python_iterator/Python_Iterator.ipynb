{
 "cells": [
  {
   "cell_type": "markdown",
   "metadata": {},
   "source": [
    "# Python Iterator \n",
    "\n",
    "> Copyright (c) 2019, GAN MOHIM, Canada. All rights reserved. \n",
    "\n",
    "> The content is free to use as is for educational purpose only. \n",
    "> It is prohibited to be used for commercial purpose (e.g. training, course work).\n",
    "> The author provides no guarantee or warranty. Use content at your own risk.\n"
   ]
  },
  {
   "cell_type": "markdown",
   "metadata": {},
   "source": [
    "\n",
    "\n",
    "\n",
    "### What is iterator in Python?\n",
    "\n",
    "Iterators are widely used in Python to traverse over series of data. Most Python programmers used iterator more or less without knowing. This module will give you a basic understanding of Python iterators so you can hit the ground at least walking.\n",
    "\n",
    "Python uses iterator protocol in plain sight. Simple concept such as for loop uses iterator behind the curtain. Let's have a look at following for loop:"
   ]
  },
  {
   "cell_type": "code",
   "execution_count": 5,
   "metadata": {},
   "outputs": [
    {
     "name": "stdout",
     "output_type": "stream",
     "text": [
      "1\n",
      "2\n",
      "3\n",
      "4\n",
      "5\n"
     ]
    }
   ],
   "source": [
    "num_list = [1, 2, 3, 4, 5]\n",
    "\n",
    "for num in num_list:\n",
    "    print(num)"
   ]
  },
  {
   "cell_type": "markdown",
   "metadata": {},
   "source": [
    "In the background, Python does something similar to following:"
   ]
  },
  {
   "cell_type": "code",
   "execution_count": 5,
   "metadata": {},
   "outputs": [
    {
     "name": "stdout",
     "output_type": "stream",
     "text": [
      "1\n",
      "2\n",
      "3\n",
      "4\n",
      "5\n"
     ]
    }
   ],
   "source": [
    "num_list = [1, 2, 3, 4, 5]\n",
    "iter_obj = iter(num_list)\n",
    "\n",
    "while True:\n",
    "    try:\n",
    "        print(next(iter_obj))\n",
    "    except StopIteration as e:\n",
    "        # In real-life you won't see any exception printed.\n",
    "        # When iterator is exausted, the next() function raises\n",
    "        # StopIteration exception\n",
    "        print(\"Quietly caught an StopIteration exception\")\n",
    "        break"
   ]
  },
  {
   "cell_type": "markdown",
   "metadata": {},
   "source": [
    "Python documentation from built-in functions used above:\n",
    "- [iter()](https://docs.python.org/3/library/functions.html#iter) returns iterator object\n",
    "- [next()](https://docs.python.org/3/library/functions.html#next) retrieves next item from the iterator\n",
    "- [iterator](https://docs.python.org/3/glossary.html#term-iterator) returns stream of object"
   ]
  },
  {
   "cell_type": "markdown",
   "metadata": {},
   "source": [
    "### Implementing Python iterator of your own\n",
    "\n",
    "In order to demonstrate practical usage, we will be developing a class that finds vowel from a string of alphabet. In this case, our class will be using `__next__()` and `__iter__()` built-in facility of Python. If a class provides implemenation for this two methods, then it will be considered iterable. Yes, in Python it is possible without using any inheritance (*hint: duck typing*). Now, let's write some code, shall we?\n"
   ]
  },
  {
   "cell_type": "code",
   "execution_count": 112,
   "metadata": {},
   "outputs": [
    {
     "name": "stdout",
     "output_type": "stream",
     "text": [
      "a is Vowel\n",
      "b is NOT Vowel\n",
      "e is Vowel\n",
      "i is Vowel\n",
      "o is Vowel\n"
     ]
    }
   ],
   "source": [
    "class FindVowels(object):\n",
    "    \"\"\"Find vowels in string using iterator.\n",
    "    \n",
    "    Copyright (c) 2019, GAN MOHIM, Canada. All rights reserved.\n",
    "    \"\"\"\n",
    "    def __init__(self, data):\n",
    "        \"\"\"Data contains a string of alphabet\n",
    "        \n",
    "        \"\"\"\n",
    "        self.data = data\n",
    "        self.vowels = 'aeiou'\n",
    "        self.index = 0\n",
    "        \n",
    "    def __iter__(self):\n",
    "        \"\"\"Returns refence to instance object\n",
    "        \n",
    "        It returns reference to instance object on which\n",
    "        it was called. iter() function calls it under the\n",
    "        hood. See previous example.\n",
    "        \"\"\"\n",
    "        return self\n",
    "    \n",
    "    def __next__(self):\n",
    "        \"\"\"Facilitates iteration on the sequence.\n",
    "        \n",
    "        On first call next() it grabs the the first element\n",
    "        from iterator object. On successive calls, it returns\n",
    "        next element. When no more next element found, we raise\n",
    "        StopIteration exception.\n",
    "        \n",
    "        Return: Element pointed to by iterator\n",
    "        \"\"\"\n",
    "        if self.index == len(self.data):\n",
    "            raise StopIteration\n",
    "        \n",
    "        result = None\n",
    "        current_alphabet = self.data[self.index]\n",
    "        \n",
    "        # Vowel check done here\n",
    "        if current_alphabet in self.vowels:\n",
    "            result = \"{} is Vowel\".format(current_alphabet)\n",
    "        else:\n",
    "            result = \"{} is NOT Vowel\".format(current_alphabet)\n",
    "        \n",
    "        # Increment index for successive next() call to find next char\n",
    "        self.index += 1\n",
    "        \n",
    "        return result\n",
    "    \n",
    "if __name__ == \"__main__\":\n",
    "    line = \"abeio\"\n",
    "    for alphabet in FindVowels(line):\n",
    "        print(alphabet)\n",
    "    \n",
    "    "
   ]
  },
  {
   "cell_type": "markdown",
   "metadata": {},
   "source": [
    "If you made this far, you have just implemented Python's iterator protocol. However, for those familiar with lanugage agnostics iterator design pattern, may find above implementaion imperfect. The debate behind this is: Iterable and Iterator are in the same class. The following Java example may shed some light on it (No Java knowledge required):\n",
    "\n",
    "```\n",
    "// Sample Java code shows usage of separate Iterator\n",
    "ArrayList countryNames = new ArrayList();\n",
    "countryNames.add(\"Palestine\");\n",
    "countryNames.add(\"Syria\");\n",
    "countryNames.add(\"Lebanon\");\n",
    "\n",
    "Iterator it = countryNames.iterator();\n",
    "while(it.hasNext()) {\n",
    "String obj = (String)it.next();\n",
    "System.out.println(obj);\n",
    "}\n",
    "```\n",
    "\n",
    "Notice how in the code above, the ArrayList has iterable list of countries. Then, the `Iterator` object is created from the `countryNames` array list. This iterator maintains its own state independently of the iterable. \n",
    "\n",
    "The Pythonic approach to implement true iterator protocol is different. We will reuse `FindVowels` class from above section with slight variation to demonstrate another implemenation of Python Iterator Protocol.\n",
    "    \n",
    "   "
   ]
  },
  {
   "cell_type": "code",
   "execution_count": 110,
   "metadata": {},
   "outputs": [
    {
     "name": "stderr",
     "output_type": "stream",
     "text": [
      "[<ipython-input-110-bdd14e24b187>:14 -             __init__() ] Initializing FindVowels()\n",
      "[<ipython-input-110-bdd14e24b187>:25 -             __iter__() ] Returning VowelIterator()\n",
      "[<ipython-input-110-bdd14e24b187>:36 -             __init__() ] Initializing VowelIterator()\n",
      "[<ipython-input-110-bdd14e24b187>:68 -             __next__() ] current_alphabet: a\n",
      "[<ipython-input-110-bdd14e24b187>:68 -             __next__() ] current_alphabet: b\n",
      "[<ipython-input-110-bdd14e24b187>:68 -             __next__() ] current_alphabet: e\n",
      "[<ipython-input-110-bdd14e24b187>:68 -             __next__() ] current_alphabet: i\n",
      "[<ipython-input-110-bdd14e24b187>:68 -             __next__() ] current_alphabet: o\n"
     ]
    },
    {
     "name": "stdout",
     "output_type": "stream",
     "text": [
      "a is Vowel\n",
      "b is NOT Vowel\n",
      "e is Vowel\n",
      "i is Vowel\n",
      "o is Vowel\n"
     ]
    }
   ],
   "source": [
    "import logging\n",
    "\n",
    "class FindVowels(object):\n",
    "    \"\"\"Find vowels in string using iterator protocol.\n",
    "    \n",
    "    Copyright (c) 2019, GAN MOHIM, Canada. All rights reserved.\n",
    "    \"\"\"\n",
    "    logger = logging.getLogger(__name__) \n",
    "\n",
    "    def __init__(self, data):\n",
    "        \"\"\"Data contains a string of alphabet\n",
    "        \n",
    "        \"\"\"\n",
    "        logger.debug(\"Initializing FindVowels()\")\n",
    "        self.data = data\n",
    "        self.vowels = 'aeiou'\n",
    "        \n",
    "    def __iter__(self):\n",
    "        \"\"\"Returns refence to instance object\n",
    "        \n",
    "        It returns reference to instance object on which\n",
    "        it was called. iter() function calls it under the\n",
    "        hood. See previous example.\n",
    "        \"\"\"\n",
    "        logger.debug(\"Returning VowelIterator()\")\n",
    "        return VowelIterator(self.data, self.vowels)\n",
    "\n",
    "class VowelIterator(object):\n",
    "    \"\"\"Implements a vowel iterator.\n",
    "    \n",
    "    Copyright (c) 2019, GAN MOHIM, Canada. All rights reserved.\n",
    "    \"\"\"\n",
    "    logger = logging.getLogger(__name__) \n",
    "    \n",
    "    def __init__(self, data, vowels):\n",
    "        \"\"\"VowelIterator constructor.\n",
    "        \n",
    "        NOTE: self.index is moved inside VowelIterator class.\n",
    "              This is so that the logic for iteration is now\n",
    "              decoupled.\n",
    "        \"\"\"\n",
    "        logger.debug(\"Initializing VowelIterator()\")\n",
    "        self.data = data\n",
    "        self.vowels = vowels\n",
    "        self.index = 0\n",
    "    \n",
    "    def __iter__(self):\n",
    "        \"\"\"Returns refence to instance object\n",
    "        \n",
    "        It returns reference to instance object on which\n",
    "        it was called. iter() function calls it under the\n",
    "        hood. See previous example.\n",
    "        \"\"\"\n",
    "        logger.debug(\"Returning reference to instance object\")\n",
    "        return self\n",
    "    \n",
    "    def __next__(self):\n",
    "        \"\"\"Faciliates iteration on the sequence.\n",
    "        \n",
    "        NOTE: __next__ has been moved inside VowelIterator\n",
    "        \n",
    "        On first call next() it grabs the the first element\n",
    "        from iterator object. On successive calls, it returns\n",
    "        next element. When no more next element found, we raise\n",
    "        StopIteration exception.\n",
    "        \n",
    "        Return: Element pointed to by iterator\n",
    "        \"\"\"\n",
    "        if self.index == len(self.data):\n",
    "            raise StopIteration\n",
    "        \n",
    "        result = None\n",
    "        current_alphabet = self.data[self.index]\n",
    "        logger.debug(\"current_alphabet: {}\".format(current_alphabet))\n",
    "        \n",
    "        # Vowel check is done here\n",
    "        if current_alphabet in self.vowels:\n",
    "            result = \"{} is Vowel\".format(current_alphabet)\n",
    "        else:\n",
    "            result = \"{} is NOT Vowel\".format(current_alphabet)\n",
    "        \n",
    "        # Increment index for successive next() call to find next char\n",
    "        self.index += 1\n",
    "        \n",
    "        return result\n",
    "  \n",
    "\n",
    "if __name__ == \"__main__\":\n",
    "    # Logger code so we can use debug statement in order\n",
    "    # to learn code flow.\n",
    "    import logging\n",
    "    logger = logging.getLogger('root')\n",
    "    log_formatter = \"[%(lineno)s - %(funcName)10s() ] %(message)s\"\n",
    "    logging.basicConfig(format=log_formatter)\n",
    "    logger.setLevel(logging.DEBUG)\n",
    "    \n",
    "    \n",
    "    def find_vowels_in_line():\n",
    "        \"\"\"Show iterator being use by for loop.\n",
    "        \n",
    "        \"\"\"\n",
    "        line = \"abeio\"\n",
    "        for alphabet in FindVowels(line):\n",
    "            print(alphabet)\n",
    "    \n",
    "    def show_iterator_in_action():\n",
    "        \"\"\"Show iterators inner working.\n",
    "        \n",
    "        Use this stub to understand how iterator works \n",
    "        step by step. Make sure to read the debug line. \n",
    "        Comment/Un-comment code to get clarity.\n",
    "        \"\"\"\n",
    "        find_vowel_obj = FindVowels(\"abeio\")\n",
    "        \n",
    "        # iter() function invokes FindVowels.__iter__\n",
    "        # This is where we get an iterable object\n",
    "        vowel_iterator = iter(find_vowel_obj)\n",
    "        \n",
    "        # next() invokes VowelIterator.__next()\n",
    "        # Each call to next will move to next element\n",
    "        print(next(vowel_iterator))\n",
    "        print(next(vowel_iterator))\n",
    "        print(next(vowel_iterator))\n",
    "        print(next(vowel_iterator))\n",
    "        print(next(vowel_iterator))\n",
    "        \n",
    "        # At this point iterator is exausted.\n",
    "        # Uncommenting following line will show you\n",
    "        # StopIteration exception is thrown\n",
    "        # print(next(vowel_iterator))\n",
    "        \n",
    "    # One line is commented out. But, run them\n",
    "    # one at a time to notice how the output looks\n",
    "    # find_vowels_in_line()\n",
    "    show_iterator_in_action()\n",
    "    "
   ]
  },
  {
   "cell_type": "markdown",
   "metadata": {},
   "source": [
    "The net difference above implemenation of Python iterator protocol:\n",
    "- `FindVowels` class is still the opening interface where user provides user string\n",
    "- `FindVowels`class no longer has `__next__()` method\n",
    "-  We have a separate iterator class `VowelIterator` that deals with iteration\n"
   ]
  }
 ],
 "metadata": {
  "kernelspec": {
   "display_name": "Python 3",
   "language": "python",
   "name": "python3"
  },
  "language_info": {
   "codemirror_mode": {
    "name": "ipython",
    "version": 3
   },
   "file_extension": ".py",
   "mimetype": "text/x-python",
   "name": "python",
   "nbconvert_exporter": "python",
   "pygments_lexer": "ipython3",
   "version": "3.7.4"
  }
 },
 "nbformat": 4,
 "nbformat_minor": 2
}
