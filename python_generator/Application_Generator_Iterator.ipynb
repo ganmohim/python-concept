{
 "cells": [
  {
   "cell_type": "markdown",
   "metadata": {},
   "source": [
    "# Application of Python Iterators and Generators\n",
    "\n",
    "Copyright (c) 2019, GAN MOHIM, Canada. All rights reserved.\n",
    "\n",
    "Author: GAN MOHIM."
   ]
  },
  {
   "cell_type": "markdown",
   "metadata": {},
   "source": [
    "## Forewords on this Chapter\n",
    "For this module, we will assume that you are familiar with the content on Python iterators and genarator. If you are already familiar with these topics, then you may begin without pre-requisite.\n",
    "\n",
    "Iterataors and Generator together makes a very powerful tool to solve every day programming problem. We will demonstrates some examples.\n"
   ]
  },
  {
   "cell_type": "markdown",
   "metadata": {},
   "source": [
    "### Use Case 1: Checking top credit score\n",
    "In general, credit score are ranked between 300 to 900. A score between 800 to 900 is considered as excellent score. Let's assume we are writing a very simple function that will do following:\n",
    "\n",
    "1. Take a function object that checks for excellent credit rating\n",
    "2. Take a second parameter as list of credit score already sorted in ascending order: [700, 780, 800, 850]\n",
    "\n",
    "In this particular example, we are showing how generator and iterators can be used. "
   ]
  },
  {
   "cell_type": "code",
   "execution_count": 74,
   "metadata": {},
   "outputs": [
    {
     "name": "stderr",
     "output_type": "stream",
     "text": [
      "[29 -   <module>() ] 'list_item' is of type: <generator object list_good_credit at 0x7f20ee639c78>\n",
      "[9 - list_good_credit() ] 'credit_scores' is of type: <class 'list_iterator'>\n"
     ]
    },
    {
     "name": "stdout",
     "output_type": "stream",
     "text": [
      "800\n",
      "850\n",
      "900\n"
     ]
    }
   ],
   "source": [
    "import logging\n",
    "import types\n",
    "\n",
    "logger = logging.getLogger(__name__) \n",
    "\n",
    "def list_good_credit(is_excellent_rating, credit_scores):\n",
    "    # Converts list into list iterator\n",
    "    iter_obj = iter(credit_scores)\n",
    "    logger.debug(\"'credit_scores' is of type: {}\".format(type(iter_obj)))\n",
    "    \n",
    "    for item in iter_obj:\n",
    "        if not is_excellent_rating(item):\n",
    "            yield item  # first yield\n",
    "            break\n",
    "            \n",
    "    for item in iter_obj:\n",
    "        yield item  # second yield\n",
    "    \n",
    "\n",
    "if __name__ == \"__main__\":\n",
    "    logger = logging.getLogger('root')\n",
    "    log_formatter = \"[%(lineno)s - %(funcName)10s() ] %(message)s\"\n",
    "    logging.basicConfig(format=log_formatter)\n",
    "    logger.setLevel(logging.DEBUG)\n",
    "    \n",
    "    \n",
    "    credit_scores = [700, 780, 800, 850, 900]\n",
    "    list_item = list_good_credit(lambda score: score < 800, credit_scores)\n",
    "    logger.debug(\"'list_item' is of type: {}\".format(list_item))\n",
    "    for item in list_item:\n",
    "        print(item)\n"
   ]
  },
  {
   "cell_type": "markdown",
   "metadata": {},
   "source": [
    "In the above example, we convert the list into list itetaror in line#8. Then, we use generator to produce credit score with excellent rating on demand:\n",
    "\n",
    "\n",
    "1. Please notice how we used two yields: line#13 and line#17 \n",
    "2. We take the advantage of score list being sorted\n",
    "3. The first yield is reached as soon as we find the first score between 800 and 900\n",
    "4. Then, we break out of the first for loop\n",
    "5. Finally, we move into the second for loop to yield rest of the scores. The reason being \n",
    "   we know for sure that rest of the number will be greater than or equal to 800\n",
    "   \n",
    "\n",
    "Now, carefully notice the code below. It can be seen under `if __name__ == \"__main__\"`.\n",
    "At first it may seem like it is just another for loop going through some list element.\n",
    "However, in this case, we are looking at a generator object instead. \n",
    "\n",
    "```\n",
    " list_item = list_good_credit(lambda score: score < 800, credit_scores)\n",
    "    logger.debug(\"'list_item' is of type: {}\".format(list_item))\n",
    "    \n",
    "    for item in list_item:\n",
    "        print(item)\n",
    "```\n",
    "The debug print in the code makes that subtle reference.\n",
    "\n",
    "> [29 -   <module>() ] 'list_item' is of type: <generator object list_good_credit at 0x7f20ee639a98>\n",
    "\n"
   ]
  }
 ],
 "metadata": {
  "kernelspec": {
   "display_name": "Python 3",
   "language": "python",
   "name": "python3"
  },
  "language_info": {
   "codemirror_mode": {
    "name": "ipython",
    "version": 3
   },
   "file_extension": ".py",
   "mimetype": "text/x-python",
   "name": "python",
   "nbconvert_exporter": "python",
   "pygments_lexer": "ipython3",
   "version": "3.7.4"
  }
 },
 "nbformat": 4,
 "nbformat_minor": 2
}
